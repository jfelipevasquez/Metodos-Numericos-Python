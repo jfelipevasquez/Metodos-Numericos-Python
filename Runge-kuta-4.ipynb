{
 "cells": [
  {
   "cell_type": "markdown",
   "metadata": {},
   "source": [
    "## Runge Kuta de cuarto orden para ecuaciones diferenciales ordinarias de primer orden"
   ]
  },
  {
   "cell_type": "code",
   "execution_count": 48,
   "metadata": {},
   "outputs": [],
   "source": [
    "import numpy as np\n",
    "import pandas as pd\n",
    "import matplotlib.pyplot as plt\n",
    "%matplotlib notebook"
   ]
  },
  {
   "cell_type": "code",
   "execution_count": 36,
   "metadata": {},
   "outputs": [
    {
     "name": "stdout",
     "output_type": "stream",
     "text": [
      "Ingrese la funcion dy/dx= y-x**2+1\n",
      "Ingrese desde donde quiere conocer la función 0\n",
      "Ingrese hasta donde quiere conocer la función  2\n",
      "En x=0    y=0.5\n",
      "Ingrese el paso 0.2\n"
     ]
    }
   ],
   "source": [
    "f=input('Ingrese la funcion dy/dx= ')\n",
    "a=eval(input('Ingrese desde donde quiere conocer la función '))\n",
    "b=eval(input('Ingrese hasta donde quiere conocer la función  '))\n",
    "y_0=eval(input('En x='+str(a)+'    y='))\n",
    "h=eval(input('Ingrese el paso '))"
   ]
  },
  {
   "cell_type": "code",
   "execution_count": 43,
   "metadata": {},
   "outputs": [],
   "source": [
    "x_vect=np.arange(a,b+h,h)\n",
    "L=len(x_vect)\n",
    "y_vect=np.zeros(L)\n",
    "y_vect[0]=y_0\n",
    "\n",
    "#y=y_vect[0]\n",
    "for i in range(L-1):\n",
    "       \n",
    "    #k1\n",
    "    x=x_vect[i]\n",
    "    y=y_vect[i]\n",
    "    k1=eval(f)\n",
    "    \n",
    "    #k2\n",
    "    x=x_vect[i]+h/2\n",
    "    y=y_vect[i]+k1*h/2\n",
    "    k2=eval(f)\n",
    "    \n",
    "    #k3\n",
    "    x=x_vect[i]+h/2\n",
    "    y=y_vect[i]+k2*h/2\n",
    "    k3=eval(f)\n",
    "    \n",
    "    #k4\n",
    "    x=x_vect[i]+h\n",
    "    y=y_vect[i]+k3*h\n",
    "    k4=eval(f)\n",
    "    \n",
    "    y_vect[i+1]=y_vect[i]+((k1+2*k2+2*k3+k4)*h)/6\n",
    "\n"
   ]
  },
  {
   "cell_type": "code",
   "execution_count": 51,
   "metadata": {},
   "outputs": [
    {
     "name": "stdout",
     "output_type": "stream",
     "text": [
      "    $x$  $y_{RK4}$\n",
      "0   0.0   0.500000\n",
      "1   0.2   0.829293\n",
      "2   0.4   1.214076\n",
      "3   0.6   1.648922\n",
      "4   0.8   2.127203\n",
      "5   1.0   2.640823\n",
      "6   1.2   3.179894\n",
      "7   1.4   3.732340\n",
      "8   1.6   4.283409\n",
      "9   1.8   4.815086\n",
      "10  2.0   5.305363\n"
     ]
    },
    {
     "data": {
      "image/png": "[encoded data removed]",
      "text/plain": [
       "<Figure size 360x288 with 1 Axes>"
      ]
     },
     "metadata": {
      "needs_background": "light"
     },
     "output_type": "display_data"
    }
   ],
   "source": [
    "resultados = np.column_stack([x_vect,y_vect])\n",
    "df = pd.DataFrame(data=resultados,columns=['$x$', '$y_{RK4}$'])\n",
    "print(df)\n",
    "\n",
    "\n",
    "plt.figure(figsize=(5,4))\n",
    "plt.plot(x_vect,y_vect)\n",
    "plt.xlabel('x',fontsize=14)\n",
    "plt.ylabel('f(x)',fontsize=14)\n",
    "plt.grid()"
   ]
  }
 ],
 "metadata": {
  "kernelspec": {
   "display_name": "Python 3",
   "language": "python",
   "name": "python3"
  },
  "language_info": {
   "codemirror_mode": {
    "name": "ipython",
    "version": 3
   },
   "file_extension": ".py",
   "mimetype": "text/x-python",
   "name": "python",
   "nbconvert_exporter": "python",
   "pygments_lexer": "ipython3",
   "version": "3.7.3"
  }
 },
 "nbformat": 4,
 "nbformat_minor": 2
}
